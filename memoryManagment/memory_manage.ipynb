{
 "cells": [
  {
   "cell_type": "markdown",
   "id": "64282105",
   "metadata": {},
   "source": [
    "Memory management in Python involves a combination of automatic garbage collection, reference counting, and various internal optimizations to efficiently manage memory allocation and deallocation. Understanding this mechanism helps developers write more efficient and robust applications."
   ]
  },
  {
   "cell_type": "markdown",
   "id": "c9afb1cd",
   "metadata": {},
   "source": [
    "Refrence counting \n",
    "Reference counting is the primary method Python uses to manage memory. Each object in Python maintains a count of references pointing to it. When the reference count drops to zero, the memory occupied by the object is deallocated."
   ]
  },
  {
   "cell_type": "code",
   "execution_count": 1,
   "id": "b2d922b0",
   "metadata": {},
   "outputs": [
    {
     "name": "stdout",
     "output_type": "stream",
     "text": [
      "2\n"
     ]
    }
   ],
   "source": [
    "import sys\n",
    "\n",
    "a = [1, 2, 3]\n",
    "print(sys.getrefcount(a))"
   ]
  },
  {
   "cell_type": "code",
   "execution_count": 2,
   "id": "509fa9c3",
   "metadata": {},
   "outputs": [
    {
     "name": "stdout",
     "output_type": "stream",
     "text": [
      "3\n"
     ]
    }
   ],
   "source": [
    "b = a\n",
    "print(sys.getrefcount(b))"
   ]
  },
  {
   "cell_type": "code",
   "execution_count": 3,
   "id": "843c5684",
   "metadata": {},
   "outputs": [
    {
     "name": "stdout",
     "output_type": "stream",
     "text": [
      "2\n"
     ]
    }
   ],
   "source": [
    "del b\n",
    "print(sys.getrefcount(a))"
   ]
  },
  {
   "cell_type": "markdown",
   "id": "4ffbd736",
   "metadata": {},
   "source": [
    "Garbage Collection\n",
    "Python also uses garbage collection to handle reference cycles, which occur when objects reference each other, preventing their reference counts from reaching zero. This cyclic garbage collector helps manage such cases."
   ]
  },
  {
   "cell_type": "code",
   "execution_count": 4,
   "id": "c04e1f22",
   "metadata": {},
   "outputs": [
    {
     "data": {
      "text/plain": [
       "41"
      ]
     },
     "execution_count": 4,
     "metadata": {},
     "output_type": "execute_result"
    }
   ],
   "source": [
    "import gc\n",
    "\n",
    "gc.enable()  # Enable garbage collection\n",
    "\n",
    "# To disable garbage collection, use:\n",
    "# gc.disable()\n",
    "\n",
    "# To manually trigger garbage collection:\n",
    "gc.collect()"
   ]
  },
  {
   "cell_type": "code",
   "execution_count": null,
   "metadata": {},
   "outputs": [
    {
     "name": "stdout",
     "output_type": "stream",
     "text": [
      "[{'collections': 64, 'collected': 1677, 'uncollectable': 0}, {'collections': 5, 'collected': 122, 'uncollectable': 0}, {'collections': 1, 'collected': 41, 'uncollectable': 0}]\n"
     ]
    }
   ],
   "source": [
    "#get garbage collection stats \n",
    "print(gc.get_stats())"
   ]
  },
  {
   "cell_type": "code",
   "execution_count": 7,
   "id": "a60004c8",
   "metadata": {},
   "outputs": [
    {
     "name": "stdout",
     "output_type": "stream",
     "text": [
      "[]\n"
     ]
    }
   ],
   "source": [
    "##get unreachable objects \n",
    "print(gc.garbage)"
   ]
  },
  {
   "cell_type": "markdown",
   "id": "7b0b5bc3",
   "metadata": {},
   "source": []
  },
  {
   "cell_type": "code",
   "execution_count": null,
   "id": "a7b3e76c",
   "metadata": {},
   "outputs": [
    {
     "name": "stdout",
     "output_type": "stream",
     "text": [
      "Object obj1 created\n",
      "Object obj2 created\n",
      "Object obj1 deleted\n",
      "Object obj2 deleted\n"
     ]
    },
    {
     "data": {
      "text/plain": [
       "127"
      ]
     },
     "execution_count": 8,
     "metadata": {},
     "output_type": "execute_result"
    }
   ],
   "source": [
    "##handling circular refrences \n",
    "class MyObject:\n",
    "    def __init__(self, name):\n",
    "        self.name = name\n",
    "        print(f\"Object {self.name} created\")\n",
    "\n",
    "    def __del__(self):\n",
    "        print(f\"Object {self.name} deleted\")\n",
    "obj1 = MyObject('obj1')\n",
    "obj2 = MyObject('obj2')\n",
    "\n",
    "obj1.reference = obj2\n",
    "obj2.reference = obj1\n",
    "del obj1\n",
    "del obj2\n",
    "gc.collect()"
   ]
  },
  {
   "cell_type": "code",
   "execution_count": 9,
   "id": "edb7423d",
   "metadata": {},
   "outputs": [
    {
     "name": "stdout",
     "output_type": "stream",
     "text": [
      "0\n",
      "1\n",
      "2\n",
      "3\n",
      "4\n",
      "5\n",
      "6\n",
      "7\n",
      "8\n",
      "9\n",
      "10\n"
     ]
    }
   ],
   "source": [
    "##Generators for memory efficiency\n",
    "def generate_numbers(n):\n",
    "    for i in range(n):\n",
    "        yield i\n",
    "\n",
    "for num in generate_numbers(100):\n",
    "    if num > 10:\n",
    "        break\n",
    "    print(num)"
   ]
  },
  {
   "cell_type": "code",
   "execution_count": 11,
   "id": "cc47955c",
   "metadata": {},
   "outputs": [
    {
     "name": "stdout",
     "output_type": "stream",
     "text": [
      "Top 10 memory usage lines:\n",
      "c:\\Python313\\Lib\\codeop.py:118: size=1185 B, count=9, average=132 B\n",
      "C:\\Users\\acer-user\\AppData\\Roaming\\Python\\Python313\\site-packages\\IPython\\core\\interactiveshell.py:3610: size=296 B, count=1, average=296 B\n",
      "C:\\Users\\acer-user\\AppData\\Roaming\\Python\\Python313\\site-packages\\IPython\\core\\history.py:1011: size=280 B, count=4, average=70 B\n",
      "c:\\Python313\\Lib\\contextlib.py:109: size=192 B, count=1, average=192 B\n",
      "C:\\Users\\acer-user\\AppData\\Roaming\\Python\\Python313\\site-packages\\IPython\\core\\interactiveshell.py:3670: size=160 B, count=1, average=160 B\n",
      "C:\\Users\\acer-user\\AppData\\Local\\Temp\\ipykernel_11612\\3114149149.py:13: size=160 B, count=1, average=160 B\n",
      "C:\\Users\\acer-user\\AppData\\Local\\Temp\\ipykernel_11612\\3114149149.py:8: size=160 B, count=1, average=160 B\n",
      "c:\\Python313\\Lib\\contextlib.py:305: size=112 B, count=1, average=112 B\n",
      "C:\\Users\\acer-user\\AppData\\Roaming\\Python\\Python313\\site-packages\\IPython\\core\\history.py:1030: size=72 B, count=1, average=72 B\n",
      "C:\\Users\\acer-user\\AppData\\Roaming\\Python\\Python313\\site-packages\\IPython\\core\\history.py:1009: size=72 B, count=1, average=72 B\n"
     ]
    }
   ],
   "source": [
    "#Profiling Memory usage with tracemalloc\n",
    "import tracemalloc\n",
    "\n",
    "tracemalloc.start()\n",
    "\n",
    "# Example function to create a list\n",
    "\n",
    "def create_list(n):\n",
    "    return [i for i in range(n)]\n",
    "\n",
    "# Main function\n",
    "\n",
    "def main():\n",
    "    create_list(10000)\n",
    "    snapshot = tracemalloc.take_snapshot()\n",
    "    top_stats = snapshot.statistics('lineno')\n",
    "    print(\"Top 10 memory usage lines:\")\n",
    "    for stat in top_stats[:10]:\n",
    "        print(stat)\n",
    "\n",
    "main()"
   ]
  },
  {
   "cell_type": "markdown",
   "id": "56e506ac",
   "metadata": {},
   "source": [
    "Use local variables as they have a shorter lifespan and are freed sooner than global variables.\n",
    "Avoid circular references as they can lead to memory leaks.\n",
    "Use generators to produce items one at a time, reducing memory usage.\n",
    "Explicitly delete objects using the del statement when they are no longer needed.\n",
    "Profile memory usage with tools like tracemalloc to identify leaks and optimize usage."
   ]
  }
 ],
 "metadata": {
  "kernelspec": {
   "display_name": "Python 3",
   "language": "python",
   "name": "python3"
  },
  "language_info": {
   "codemirror_mode": {
    "name": "ipython",
    "version": 3
   },
   "file_extension": ".py",
   "mimetype": "text/x-python",
   "name": "python",
   "nbconvert_exporter": "python",
   "pygments_lexer": "ipython3",
   "version": "3.13.2"
  }
 },
 "nbformat": 4,
 "nbformat_minor": 5
}
