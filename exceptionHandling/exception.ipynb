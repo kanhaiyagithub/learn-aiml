{
 "cells": [
  {
   "cell_type": "code",
   "execution_count": 1,
   "id": "8b46a350",
   "metadata": {},
   "outputs": [
    {
     "name": "stdout",
     "output_type": "stream",
     "text": [
      "The variable has not been assigned\n"
     ]
    }
   ],
   "source": [
    "try:\n",
    "    a=b\n",
    "except:\n",
    "    print(\"The variable has not been assigned\")"
   ]
  },
  {
   "cell_type": "code",
   "execution_count": 2,
   "id": "41065f3c",
   "metadata": {},
   "outputs": [
    {
     "name": "stdout",
     "output_type": "stream",
     "text": [
      "name 'b' is not defined\n"
     ]
    }
   ],
   "source": [
    "try:\n",
    "    a=b\n",
    "except NameError as ex:\n",
    "    print(ex)"
   ]
  },
  {
   "cell_type": "code",
   "execution_count": 4,
   "id": "230b6ba3",
   "metadata": {},
   "outputs": [
    {
     "name": "stdout",
     "output_type": "stream",
     "text": [
      "division by zero\n",
      "please enter the denominator greater than zero\n"
     ]
    }
   ],
   "source": [
    "try:\n",
    "    result = 1/0\n",
    "except ZeroDivisionError as ex:\n",
    "    print(ex)\n",
    "    print(\"please enter the denominator greater than zero\")\n"
   ]
  },
  {
   "cell_type": "code",
   "execution_count": 5,
   "id": "fe1f0e7a",
   "metadata": {},
   "outputs": [
    {
     "name": "stdout",
     "output_type": "stream",
     "text": [
      "name 'b' is not defined\n",
      "main exception got caught\n"
     ]
    }
   ],
   "source": [
    "try:\n",
    "    result = 1/2\n",
    "    a=b\n",
    "except ZeroDivisionError as ex:\n",
    "    print(ex)\n",
    "    print(\"please enter the denominator greater than zero\")\n",
    "except Exception as ex1:\n",
    "    print(ex1)\n",
    "    print(\"main exception got caught\")"
   ]
  },
  {
   "cell_type": "code",
   "execution_count": 9,
   "id": "82bec1c1",
   "metadata": {},
   "outputs": [],
   "source": [
    "try:\n",
    "    num = int(input(\"Enter a number\"))\n",
    "    result = 10/num\n",
    "except ValueError:\n",
    "    print(\"this is not a valid number\")\n",
    "except ZeroDivisionError:\n",
    "    print(\"enter the denominator greater than zero\")\n",
    "except Exception as ex:\n",
    "    print(ex)"
   ]
  },
  {
   "cell_type": "code",
   "execution_count": 10,
   "id": "7a40a97d",
   "metadata": {},
   "outputs": [
    {
     "name": "stdout",
     "output_type": "stream",
     "text": [
      "the result is 5.0\n"
     ]
    }
   ],
   "source": [
    "try:\n",
    "    num = int(input(\"Enter a number\"))\n",
    "    result = 10/num\n",
    "except ValueError:\n",
    "    print(\"this is not a valid number\")\n",
    "except ZeroDivisionError:\n",
    "    print(\"enter the value greater than zero\")\n",
    "except Exception as ex:\n",
    "    print(ex)\n",
    "else:\n",
    "    print(f\"the result is {result}\")"
   ]
  },
  {
   "cell_type": "code",
   "execution_count": 11,
   "id": "c44d91ee",
   "metadata": {},
   "outputs": [
    {
     "name": "stdout",
     "output_type": "stream",
     "text": [
      "the result is 2.0\n",
      "Execution completed\n"
     ]
    }
   ],
   "source": [
    "#try except else and finally block\n",
    "try:\n",
    "    num = int(input(\"Enter a number\"))\n",
    "    result = 10/num\n",
    "except ValueError:\n",
    "    print(\"this is not a valid number\")\n",
    "except ZeroDivisionError:\n",
    "    print(\"enter the value greater than zero\")\n",
    "except Exception as ex:\n",
    "    print(ex)\n",
    "else:\n",
    "    print(f\"the result is {result}\")\n",
    "finally:\n",
    "    print(\"Execution completed\")\n"
   ]
  },
  {
   "cell_type": "code",
   "execution_count": 12,
   "id": "8a2682d0",
   "metadata": {},
   "outputs": [
    {
     "name": "stdout",
     "output_type": "stream",
     "text": [
      "this file doesnot exist\n"
     ]
    }
   ],
   "source": [
    "#file handling and exception handling \n",
    "try:\n",
    "    file = open('example1.txt' , 'r')\n",
    "    content = file.read()\n",
    "    print(content)\n",
    "except FileNotFoundError:\n",
    "    print(\"this file doesnot exist\")\n",
    "finally:\n",
    "    if 'file' in locals() and not file.closed():\n",
    "        file.close()\n",
    "        print('file closed')\n"
   ]
  },
  {
   "cell_type": "code",
   "execution_count": 15,
   "id": "37c04f3a",
   "metadata": {},
   "outputs": [
    {
     "name": "stdout",
     "output_type": "stream",
     "text": [
      "name 'b' is not defined\n",
      "file closed\n"
     ]
    }
   ],
   "source": [
    "try:\n",
    "    file = open('example2.txt' , 'r')\n",
    "    content = file.read()\n",
    "    a=b\n",
    "    print(content)\n",
    "except FileNotFoundError:\n",
    "    print(\"this file doesnot exist\")\n",
    "except Exception as ex:\n",
    "    print(ex)\n",
    "finally:\n",
    "    if 'file' in locals() or not file.closed():\n",
    "        file.close()\n",
    "        print('file closed')\n"
   ]
  }
 ],
 "metadata": {
  "kernelspec": {
   "display_name": "Python 3",
   "language": "python",
   "name": "python3"
  },
  "language_info": {
   "codemirror_mode": {
    "name": "ipython",
    "version": 3
   },
   "file_extension": ".py",
   "mimetype": "text/x-python",
   "name": "python",
   "nbconvert_exporter": "python",
   "pygments_lexer": "ipython3",
   "version": "3.13.2"
  }
 },
 "nbformat": 4,
 "nbformat_minor": 5
}
