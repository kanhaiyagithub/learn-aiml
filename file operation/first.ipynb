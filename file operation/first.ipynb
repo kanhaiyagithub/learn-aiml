{
 "cells": [
  {
   "cell_type": "code",
   "execution_count": 1,
   "id": "81bef461",
   "metadata": {},
   "outputs": [
    {
     "name": "stdout",
     "output_type": "stream",
     "text": [
      "kanhaiya kumar\n"
     ]
    }
   ],
   "source": [
    "print('kanhaiya kumar')"
   ]
  },
  {
   "cell_type": "markdown",
   "id": "5d93189e",
   "metadata": {},
   "source": [
    "#File operation-Read and Write Files\n",
    "file handling is crucial part of any programming language "
   ]
  },
  {
   "cell_type": "code",
   "execution_count": 1,
   "id": "e19217af",
   "metadata": {},
   "outputs": [
    {
     "name": "stdout",
     "output_type": "stream",
     "text": [
      "hii i am kanhaiya kumar\n",
      "and i am a software developer at ftechiz and my future goal is to be a good developer \n",
      "\n"
     ]
    }
   ],
   "source": [
    "with  open('example.txt','r') as file:\n",
    " content= file.read()\n",
    "print(content)"
   ]
  },
  {
   "cell_type": "code",
   "execution_count": null,
   "id": "ca3195d7",
   "metadata": {},
   "outputs": [
    {
     "name": "stdout",
     "output_type": "stream",
     "text": [
      "hii i am kanhaiya kumar\n",
      "and i am a software developer at ftechiz and my future goal is to be a good developer\n"
     ]
    }
   ],
   "source": [
    "#Read a file line by line \n",
    "with open('example.txt','r') as file:\n",
    "    for line in file:\n",
    "        #print(line)\n",
    "        print(line.strip())#this stripe function remove the new line character "
   ]
  },
  {
   "cell_type": "code",
   "execution_count": 10,
   "id": "d87c75e2",
   "metadata": {},
   "outputs": [],
   "source": [
    "#write a file without overwriting \n",
    "with open('example.txt','a') as file:\n",
    "    file.write('\\n Append without the overwriting')"
   ]
  },
  {
   "cell_type": "code",
   "execution_count": 13,
   "id": "4d86a2b4",
   "metadata": {},
   "outputs": [],
   "source": [
    "#write a file with overwriting \n",
    "with open ('example.txt','w') as file:\n",
    "    file.write(\"Hello world i am kanhaiya kumar\\n\")\n",
    "    file.write(\"this is a new line\")"
   ]
  },
  {
   "cell_type": "code",
   "execution_count": 14,
   "id": "4dca76cb",
   "metadata": {},
   "outputs": [],
   "source": [
    "###writing a list of line to a file \n",
    "lines=['\\nFirst line \\n','second line \\n','third line \\n']\n",
    "with open('example.txt','a') as file:\n",
    "    file.writelines(lines)"
   ]
  },
  {
   "cell_type": "code",
   "execution_count": 15,
   "id": "e619f882",
   "metadata": {},
   "outputs": [],
   "source": [
    "#writing to a binary file\n",
    "data = b'\\x00\\x01\\x02\\x04'\n",
    "with open('example.bin','wb') as file:\n",
    "    file.write(data)"
   ]
  },
  {
   "cell_type": "code",
   "execution_count": 16,
   "id": "d5d36d55",
   "metadata": {},
   "outputs": [
    {
     "name": "stdout",
     "output_type": "stream",
     "text": [
      "b'\\x00\\x01\\x02\\x04'\n"
     ]
    }
   ],
   "source": [
    "#reading a binary files\n",
    "with open('example.bin','rb') as file:\n",
    "    content = file.read()\n",
    "    print(content)"
   ]
  },
  {
   "cell_type": "code",
   "execution_count": 17,
   "id": "b94df515",
   "metadata": {},
   "outputs": [],
   "source": [
    "#reading a content from a source file and write to a destination text file \n",
    "#Copying a text file \n",
    "with open('example.txt','r') as source_file:\n",
    "    content = source_file.read()\n",
    "\n",
    "with open('destination.txt','w') as destination_file:\n",
    "    destination_file.write(content)"
   ]
  },
  {
   "cell_type": "code",
   "execution_count": 1,
   "id": "fb353edb",
   "metadata": {},
   "outputs": [
    {
     "name": "stdout",
     "output_type": "stream",
     "text": [
      "Lines: 5,Words: 17,Characters: 88\n"
     ]
    }
   ],
   "source": [
    "#Read a text file and count the number of lines ,words and characters\n",
    "def count_text_file(file_path):\n",
    "    with open(file_path,'r') as file:\n",
    "        lines = file.readlines()\n",
    "        line_count = len(lines)\n",
    "        word_count = sum(len(line.split()) for line in lines)\n",
    "        char_count = sum(len(line) for line in lines)\n",
    "    return line_count, word_count, char_count\n",
    "file_path = 'example.txt'\n",
    "lines,words, characters = count_text_file(file_path)\n",
    "print(f'Lines: {lines},Words: {words},Characters: {characters}')"
   ]
  },
  {
   "cell_type": "markdown",
   "id": "eb715156",
   "metadata": {},
   "source": [
    "The w+ mode in python is used to open a file for both reading and writing.if the file does not exist it will be created.if the file exist its content is trucated(i.e the file is overwritten)"
   ]
  },
  {
   "cell_type": "code",
   "execution_count": 5,
   "id": "9c9f2f8f",
   "metadata": {},
   "outputs": [
    {
     "name": "stdout",
     "output_type": "stream",
     "text": [
      "Hello world\n",
      "this is the new line\n",
      "\n"
     ]
    }
   ],
   "source": [
    "with open('example.txt', 'w+') as file:\n",
    "    file.write(\"Hello world\\n\")\n",
    "    file.write(\"this is the new line\\n\")\n",
    "    ##move the cursor to the beginning\n",
    "    file.seek(0)\n",
    "    ## Read the content of the file \n",
    "    content = file.read()\n",
    "    print(content)"
   ]
  },
  {
   "cell_type": "markdown",
   "id": "fb3b5b31",
   "metadata": {},
   "source": []
  }
 ],
 "metadata": {
  "kernelspec": {
   "display_name": "Python 3",
   "language": "python",
   "name": "python3"
  },
  "language_info": {
   "codemirror_mode": {
    "name": "ipython",
    "version": 3
   },
   "file_extension": ".py",
   "mimetype": "text/x-python",
   "name": "python",
   "nbconvert_exporter": "python",
   "pygments_lexer": "ipython3",
   "version": "3.13.2"
  }
 },
 "nbformat": 4,
 "nbformat_minor": 5
}
