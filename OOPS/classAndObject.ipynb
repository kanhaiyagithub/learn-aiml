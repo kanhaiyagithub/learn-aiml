{
 "cells": [
  {
   "cell_type": "code",
   "execution_count": 4,
   "id": "d1916a5f",
   "metadata": {},
   "outputs": [
    {
     "name": "stdout",
     "output_type": "stream",
     "text": [
      "<class '__main__.Car'>\n",
      "<__main__.Car object at 0x0000016B82301940>\n",
      "<__main__.Car object at 0x0000016B823442D0>\n",
      "4\n"
     ]
    }
   ],
   "source": [
    "class Car:\n",
    "    pass\n",
    "audi = Car()\n",
    "bmw = Car()\n",
    "print(type(audi))\n",
    "print(audi)\n",
    "print(bmw)\n",
    "audi.windows = 4\n",
    "print(audi.windows)"
   ]
  },
  {
   "cell_type": "code",
   "execution_count": 5,
   "id": "4ca5bd7b",
   "metadata": {},
   "outputs": [
    {
     "ename": "AttributeError",
     "evalue": "'Car' object has no attribute 'windows'",
     "output_type": "error",
     "traceback": [
      "\u001b[31m---------------------------------------------------------------------------\u001b[39m",
      "\u001b[31mAttributeError\u001b[39m                            Traceback (most recent call last)",
      "\u001b[36mCell\u001b[39m\u001b[36m \u001b[39m\u001b[32mIn[5]\u001b[39m\u001b[32m, line 3\u001b[39m\n\u001b[32m      1\u001b[39m tata = Car()\n\u001b[32m      2\u001b[39m tata.doors = \u001b[32m4\u001b[39m \n\u001b[32m----> \u001b[39m\u001b[32m3\u001b[39m \u001b[38;5;28mprint\u001b[39m(\u001b[43mtata\u001b[49m\u001b[43m.\u001b[49m\u001b[43mwindows\u001b[49m)\n",
      "\u001b[31mAttributeError\u001b[39m: 'Car' object has no attribute 'windows'"
     ]
    }
   ],
   "source": [
    "tata = Car()\n",
    "tata.doors = 4 \n",
    "print(tata.windows)"
   ]
  },
  {
   "cell_type": "code",
   "execution_count": 2,
   "id": "0a101931",
   "metadata": {},
   "outputs": [
    {
     "name": "stdout",
     "output_type": "stream",
     "text": [
      "<__main__.Dog object at 0x0000021A6F8763C0>\n",
      "Buddy\n",
      "5\n",
      "lucy\n",
      "4\n"
     ]
    }
   ],
   "source": [
    "##instance variable and methods \n",
    "class Dog:\n",
    "    #constructor \n",
    "    def __init__(self,name,age):\n",
    "        self.name = name \n",
    "        self.age = age\n",
    "#create objects\n",
    "dog1 = Dog(\"Buddy\" , 5)\n",
    "print(dog1)\n",
    "print(dog1.name)\n",
    "print(dog1.age)\n",
    "dog2 = Dog(\"lucy\" , 4)\n",
    "print(dog2.name)\n",
    "print(dog2.age)\n",
    "        "
   ]
  },
  {
   "cell_type": "code",
   "execution_count": 3,
   "id": "52edd29f",
   "metadata": {},
   "outputs": [
    {
     "name": "stdout",
     "output_type": "stream",
     "text": [
      "Buddy says woof\n"
     ]
    }
   ],
   "source": [
    "#Define a class with instance methods \n",
    "class Dog:\n",
    "    def __init__(self,name,age):\n",
    "        self.name = name \n",
    "        self.age = age\n",
    "    def bark(self):\n",
    "        print(f\"{self.name} says woof\")\n",
    "dog1 = Dog(\"Buddy\" , 3)\n",
    "dog1.bark()"
   ]
  },
  {
   "cell_type": "code",
   "execution_count": 5,
   "id": "ea961f9b",
   "metadata": {},
   "outputs": [
    {
     "name": "stdout",
     "output_type": "stream",
     "text": [
      "5000\n"
     ]
    }
   ],
   "source": [
    " ##modeling a bank account \n",
    "#Define a class for bank account\n",
    "class BankAccount:\n",
    "    def __init__(self,owner,balance = 0):\n",
    "        self.owner = owner \n",
    "        self.balance = balance \n",
    "    def deposit(self,amount):\n",
    "        self.balance += amount\n",
    "        print(f\"{amount} is deposited.New balance is {self.balance}\")\n",
    "    def withdraw(self,amount):\n",
    "        if amount>self.balance:\n",
    "            print(\"insufficent balance\")\n",
    "        else:\n",
    "            self.balance -= amount\n",
    "            print(f\"{amount} is withdrawn.New balance is {self.balance}\")\n",
    "    def get_balance(self):\n",
    "        return self.balance\n",
    "    #create a bank account \n",
    "account = BankAccount(\"Kanhaiya\",5000)\n",
    "print(account.balance)\n",
    "    "
   ]
  },
  {
   "cell_type": "code",
   "execution_count": 6,
   "id": "5e6c2858",
   "metadata": {},
   "outputs": [
    {
     "name": "stdout",
     "output_type": "stream",
     "text": [
      "100 is deposited.New balance is 5100\n"
     ]
    }
   ],
   "source": [
    "#call instance methods\n",
    "account.deposit(100)"
   ]
  },
  {
   "cell_type": "code",
   "execution_count": 7,
   "id": "281e1d26",
   "metadata": {},
   "outputs": [
    {
     "name": "stdout",
     "output_type": "stream",
     "text": [
      "300 is withdrawn.New balance is 4800\n"
     ]
    }
   ],
   "source": [
    "account.withdraw(300)"
   ]
  },
  {
   "cell_type": "code",
   "execution_count": 9,
   "id": "2c20e8cc",
   "metadata": {},
   "outputs": [
    {
     "name": "stdout",
     "output_type": "stream",
     "text": [
      "4800\n"
     ]
    }
   ],
   "source": [
    "print(account.get_balance())"
   ]
  },
  {
   "cell_type": "markdown",
   "id": "17f9bce6",
   "metadata": {},
   "source": [
    "OOPS allows us to model real-world scenerios using classes and objects.in this lesson we learned how to create classes and objects define instance variable and methods and use them to perform various operations "
   ]
  }
 ],
 "metadata": {
  "kernelspec": {
   "display_name": "Python 3",
   "language": "python",
   "name": "python3"
  },
  "language_info": {
   "codemirror_mode": {
    "name": "ipython",
    "version": 3
   },
   "file_extension": ".py",
   "mimetype": "text/x-python",
   "name": "python",
   "nbconvert_exporter": "python",
   "pygments_lexer": "ipython3",
   "version": "3.13.2"
  }
 },
 "nbformat": 4,
 "nbformat_minor": 5
}
